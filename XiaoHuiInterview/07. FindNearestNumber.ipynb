{
 "cells": [
  {
   "cell_type": "code",
   "execution_count": 1,
   "metadata": {},
   "outputs": [],
   "source": [
    "import copy\n",
    "    \n",
    "def findTransferPoint(nums):\n",
    "    if not nums:\n",
    "        return 0\n",
    "    for i in range(len(nums) - 1, 0, -1):\n",
    "        if nums[i] > nums[i - 1]:\n",
    "            return i\n",
    "    else:\n",
    "        return 0\n",
    "    \n",
    "def exchangeHead(nums, index):\n",
    "    head = nums[index - 1]\n",
    "    for i in range(len(nums) - 1, index - 1, -1):\n",
    "        if head < nums[i]:\n",
    "            nums[index - 1], nums[i] = nums[i], head\n",
    "            break\n",
    "    \n",
    "def findNearestNumber(nums):\n",
    "    # find transfer index\n",
    "    index = findTransferPoint(nums)\n",
    "    if not index:\n",
    "        return None\n",
    "    # copy array\n",
    "    ans = copy.deepcopy(nums)\n",
    "    # change head\n",
    "    exchangeHead(ans, index)\n",
    "    # reverse clip\n",
    "    ans[index:] = ans[len(ans) - 1 : index - 1 : -1]\n",
    "    \n",
    "    return ans"
   ]
  },
  {
   "cell_type": "code",
   "execution_count": 2,
   "metadata": {},
   "outputs": [],
   "source": [
    "nums = [1, 2, 3, 4, 5]"
   ]
  },
  {
   "cell_type": "code",
   "execution_count": 8,
   "metadata": {},
   "outputs": [
    {
     "name": "stdout",
     "output_type": "stream",
     "text": [
      "[1, 3, 2, 4, 5]\n"
     ]
    }
   ],
   "source": [
    "nums = findNearestNumber(nums)\n",
    "print(nums)"
   ]
  }
 ],
 "metadata": {
  "kernelspec": {
   "display_name": "Python 3",
   "language": "python",
   "name": "python3"
  },
  "language_info": {
   "codemirror_mode": {
    "name": "ipython",
    "version": 3
   },
   "file_extension": ".py",
   "mimetype": "text/x-python",
   "name": "python",
   "nbconvert_exporter": "python",
   "pygments_lexer": "ipython3",
   "version": "3.6.4"
  }
 },
 "nbformat": 4,
 "nbformat_minor": 2
}
