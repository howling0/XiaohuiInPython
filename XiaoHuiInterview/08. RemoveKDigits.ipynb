{
 "cells": [
  {
   "cell_type": "code",
   "execution_count": 65,
   "metadata": {},
   "outputs": [],
   "source": [
    "def removeKDigits(nums, k):\n",
    "    # temp length of the answer\n",
    "    length = len(nums) - k\n",
    "    # build stack to store the digits\n",
    "    mstack = [0] * length\n",
    "    top = 0\n",
    "    if length <= 0:\n",
    "        return \"0\"\n",
    "    # stack top\n",
    "    top = 0\n",
    "    # loop over digits\n",
    "    for num in nums:\n",
    "        # if stack is not empty\n",
    "        # and top element is greater than the current num\n",
    "        # and still has 'k' digits to be deleted\n",
    "        while top > 0 and int(mstack[top - 1]) > int(num) and k > 0:\n",
    "            # shrink the valid stack size and update k\n",
    "            top -= 1\n",
    "            k -= 1\n",
    "        # if stack is empty\n",
    "        # and the current num is '0'\n",
    "        if num == '0' and top == 0:\n",
    "            # decrease the temp length\n",
    "            length -= 1\n",
    "            if length <= 0:\n",
    "                return '0'\n",
    "            continue\n",
    "        # push the current number into stack and update top\n",
    "        if top >= length:\n",
    "            k -= 1\n",
    "            continue;\n",
    "        mstack[top] = num\n",
    "        top += 1\n",
    "        \n",
    "    # return the answer\n",
    "    if length <= 0:\n",
    "        return \"0\"\n",
    "    else:\n",
    "        return ''.join(mstack[:length])"
   ]
  },
  {
   "cell_type": "code",
   "execution_count": 66,
   "metadata": {},
   "outputs": [
    {
     "data": {
      "text/plain": [
       "'99991'"
      ]
     },
     "execution_count": 66,
     "metadata": {},
     "output_type": "execute_result"
    }
   ],
   "source": [
    "removeKDigits(\"9999999999991\",8)"
   ]
  },
  {
   "cell_type": "code",
   "execution_count": 67,
   "metadata": {},
   "outputs": [
    {
     "data": {
      "text/plain": [
       "'0'"
      ]
     },
     "execution_count": 67,
     "metadata": {},
     "output_type": "execute_result"
    }
   ],
   "source": [
    "removeKDigits(\"10\", 2)"
   ]
  },
  {
   "cell_type": "code",
   "execution_count": 68,
   "metadata": {},
   "outputs": [
    {
     "data": {
      "text/plain": [
       "'1212'"
      ]
     },
     "execution_count": 68,
     "metadata": {},
     "output_type": "execute_result"
    }
   ],
   "source": [
    "removeKDigits(\"1593212\", 3)"
   ]
  },
  {
   "cell_type": "code",
   "execution_count": 69,
   "metadata": {},
   "outputs": [
    {
     "data": {
      "text/plain": [
       "'212'"
      ]
     },
     "execution_count": 69,
     "metadata": {},
     "output_type": "execute_result"
    }
   ],
   "source": [
    "removeKDigits(\"15903212\", 4)"
   ]
  },
  {
   "cell_type": "code",
   "execution_count": 70,
   "metadata": {},
   "outputs": [
    {
     "data": {
      "text/plain": [
       "'200'"
      ]
     },
     "execution_count": 70,
     "metadata": {},
     "output_type": "execute_result"
    }
   ],
   "source": [
    "removeKDigits(\"30200\", 1)"
   ]
  },
  {
   "cell_type": "code",
   "execution_count": 71,
   "metadata": {},
   "outputs": [
    {
     "data": {
      "text/plain": [
       "'120936'"
      ]
     },
     "execution_count": 71,
     "metadata": {},
     "output_type": "execute_result"
    }
   ],
   "source": [
    "removeKDigits(\"541270936\", 3)"
   ]
  },
  {
   "cell_type": "code",
   "execution_count": 72,
   "metadata": {},
   "outputs": [
    {
     "data": {
      "text/plain": [
       "'112'"
      ]
     },
     "execution_count": 72,
     "metadata": {},
     "output_type": "execute_result"
    }
   ],
   "source": [
    "removeKDigits(\"1593212\", 4)"
   ]
  }
 ],
 "metadata": {
  "kernelspec": {
   "display_name": "Python 3",
   "language": "python",
   "name": "python3"
  },
  "language_info": {
   "codemirror_mode": {
    "name": "ipython",
    "version": 3
   },
   "file_extension": ".py",
   "mimetype": "text/x-python",
   "name": "python",
   "nbconvert_exporter": "python",
   "pygments_lexer": "ipython3",
   "version": "3.6.4"
  }
 },
 "nbformat": 4,
 "nbformat_minor": 2
}
