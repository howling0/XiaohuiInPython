{
 "cells": [
  {
   "cell_type": "code",
   "execution_count": 1,
   "metadata": {},
   "outputs": [],
   "source": [
    "# brute-force\n",
    "def getGreatestCommonDivisor(a, b):\n",
    "    maxi = max(a, b)\n",
    "    mini = min(a, b)\n",
    "    if maxi % mini == 0:\n",
    "        return mini\n",
    "    for i in range(mini//2, 1, -1):\n",
    "        if maxi % i == 0 and mini % i == 0:\n",
    "            return i\n",
    "    else:\n",
    "        return 1"
   ]
  },
  {
   "cell_type": "code",
   "execution_count": 2,
   "metadata": {},
   "outputs": [],
   "source": [
    "# Euclidean algorithm 辗转相除法\n",
    "def getGreatestCommonDivisorV2(a, b):\n",
    "    maxi = max(a, b)\n",
    "    mini = min(a, b)\n",
    "    if maxi % mini == 0:\n",
    "        return mini\n",
    "    else:\n",
    "        return getGreatestCommonDivisorV2(maxi % mini, mini)"
   ]
  },
  {
   "cell_type": "code",
   "execution_count": 3,
   "metadata": {},
   "outputs": [],
   "source": [
    "# 更相减损术\n",
    "def getGreatestCommonDivisorV3(a, b):\n",
    "    maxi = max(a, b)\n",
    "    mini = min(a, b)\n",
    "    if maxi % mini == 0:\n",
    "        return mini\n",
    "    else:\n",
    "        return getGreatestCommonDivisorV3(maxi - mini, mini)"
   ]
  },
  {
   "cell_type": "code",
   "execution_count": 14,
   "metadata": {},
   "outputs": [],
   "source": [
    "# Stein算法\n",
    "def getGreatestCommonDivisorV4(a, b):\n",
    "    if a == b:\n",
    "        return a\n",
    "    if a&1 == 0 and b&1 ==0:\n",
    "        return getGreatestCommonDivisorV4(a >> 1, b >> 1) << 1\n",
    "    elif a&1 == 0 and b&1 != 0:\n",
    "        return getGreatestCommonDivisorV4(a >> 1, b)\n",
    "    elif a&1 != 0 and b&1 == 0:\n",
    "        return getGreatestCommonDivisorV4(a, b >> 1)\n",
    "    else:\n",
    "        maxi = max(a, b)\n",
    "        mini = min(a, b)\n",
    "        return getGreatestCommonDivisorV4(maxi - mini, mini)"
   ]
  },
  {
   "cell_type": "code",
   "execution_count": 15,
   "metadata": {},
   "outputs": [
    {
     "name": "stdout",
     "output_type": "stream",
     "text": [
      "10\n",
      "10\n",
      "10\n",
      "5\n"
     ]
    }
   ],
   "source": [
    "a = 10000\n",
    "b = 10\n",
    "print(getGreatestCommonDivisor(a, b))\n",
    "print(getGreatestCommonDivisorV2(a, b))\n",
    "print(getGreatestCommonDivisorV3(a, b))\n",
    "print(getGreatestCommonDivisorV4(a, b))"
   ]
  },
  {
   "cell_type": "code",
   "execution_count": null,
   "metadata": {},
   "outputs": [],
   "source": []
  }
 ],
 "metadata": {
  "kernelspec": {
   "display_name": "Python 3",
   "language": "python",
   "name": "python3"
  },
  "language_info": {
   "codemirror_mode": {
    "name": "ipython",
    "version": 3
   },
   "file_extension": ".py",
   "mimetype": "text/x-python",
   "name": "python",
   "nbconvert_exporter": "python",
   "pygments_lexer": "ipython3",
   "version": "3.6.4"
  }
 },
 "nbformat": 4,
 "nbformat_minor": 2
}
