{
 "cells": [
  {
   "cell_type": "code",
   "execution_count": null,
   "metadata": {},
   "outputs": [],
   "source": [
    "# N number of gold mines\n",
    "# W number of workers\n",
    "# P[N] number of workers needed for Nth mine\n",
    "# G[N] number of gold in Nth mine\n",
    "\n",
    "# Three basics of Dynamic planning\n",
    "# boundary conditions: F(N, W) = G[0] where N = 1 and W >= P[0]\n",
    "#                      F(N, W) = 0 where N <= 1 and W < P[0]\n",
    "#                      F(N, W) = F(N - 1, W) where N > 1 and W < P[N - 1]\n",
    "# optimal sub structure for F(N, W): F(N - 1, W), F(N - 1, W - P[N - 1]) + G[N - 1]\n",
    "#       note: F(N - 1, W) is the branch where Nth mine was not digged,\n",
    "#             W - P[N - 1] is the number of workers left if the Nth mine was digged\n",
    "# status transfer function: F(N, W) = max(F(N - 1, W), F(N - 1, W - P[N - 1]) + G[N - 1]) where N > 1 and W >= P[N - 1]"
   ]
  },
  {
   "cell_type": "code",
   "execution_count": 41,
   "metadata": {},
   "outputs": [],
   "source": [
    "# def goldMiningV1(N, W, G, P):\n",
    "#     if N == 0 or W == 0:\n",
    "#         return 0\n",
    "#     elif N == 1:\n",
    "#         if W >= P[0]:\n",
    "#             return G[0]\n",
    "#     elif W < P[N - 1]:\n",
    "#         return goldMiningV1(N - 1, W, G, P)\n",
    "#     else:\n",
    "#         return max(goldMiningV1(N - 1, W, G, P), goldMiningV1(N - 1, W - P[N - 1], G, P) + G[N - 1])"
   ]
  },
  {
   "cell_type": "code",
   "execution_count": 36,
   "metadata": {},
   "outputs": [],
   "source": [
    "def goldMiningV1(N, W, G, P):\n",
    "    if N == 0 or W == 0:\n",
    "        return 0\n",
    "    if W < P[N - 1]:\n",
    "        return goldMiningV1(N - 1, W, G, P)\n",
    "    \n",
    "    return max(goldMiningV1(N - 1, W, G, P), goldMiningV1(N - 1, W - P[N - 1], G, P) + G[N - 1])"
   ]
  },
  {
   "cell_type": "code",
   "execution_count": 68,
   "metadata": {},
   "outputs": [],
   "source": [
    "def goldMiningV2(N, W, G, P, D):\n",
    "    if N == 0 or W == 0:\n",
    "        return 0\n",
    "    target = str(N) + \",\" + str(W)\n",
    "    if target in D:\n",
    "        return D[target]\n",
    "    if W < P[N - 1]:\n",
    "        value = goldMiningV2(N - 1, W, G, P, D)\n",
    "        D[target] = value\n",
    "        return value\n",
    "    value = max(goldMiningV2(N - 1, W, G, P, D), goldMiningV2(N - 1, W - P[N - 1], G, P, D) + G[N - 1])\n",
    "    D[target] = value\n",
    "    return value"
   ]
  },
  {
   "cell_type": "code",
   "execution_count": 163,
   "metadata": {},
   "outputs": [],
   "source": [
    "# def goldMiningV3(N, W, G, P):\n",
    "#     if N == 0 or W == 0:\n",
    "#         return 0\n",
    "#     ans = [[0] * W for i in range(N)]\n",
    "#     for n in range(N):\n",
    "#         for w in range(W):\n",
    "#             if w < P[n]:\n",
    "#                 print(\"w < P[n - 1]\")\n",
    "#                 ans[n][w] = ans[n - 1][w - 1]\n",
    "#             else:\n",
    "#                 print(\"else\")\n",
    "#                 ans[n][w] = max(ans[n - 1][w - 1], ans[n - 1][w - P[n] + 1] + G[n])\n",
    "#             print(n,w,ans)\n",
    "#     return ans[N-1][W-1]"
   ]
  },
  {
   "cell_type": "code",
   "execution_count": 169,
   "metadata": {},
   "outputs": [],
   "source": [
    "def goldMiningV3(N, W, G, P):\n",
    "    if N == 0 or W == 0:\n",
    "        return 0\n",
    "    ans = [[0] * (W+1) for i in range(N+1)]\n",
    "    for n in range(1, N + 1):\n",
    "        for w in range(1, W + 1):\n",
    "            if w < P[n - 1]:\n",
    "                ans[n][w] = ans[n - 1][w]\n",
    "            else:\n",
    "                ans[n][w] = max(ans[n - 1][w], ans[n - 1][w - P[n - 1]] + G[n - 1])\n",
    "    return ans[N][W]"
   ]
  },
  {
   "cell_type": "code",
   "execution_count": 182,
   "metadata": {},
   "outputs": [],
   "source": [
    "def goldMiningV4(N, W, G, P):\n",
    "    ans = [0] * (W+1)\n",
    "    for n in range(1, N+1):\n",
    "        for w in range(W, 0, -1):\n",
    "            if w >= P[n - 1]:\n",
    "                ans[w] = max(ans[w], ans[w - P[n - 1]] + G[n - 1])\n",
    "                print(n,w,ans)\n",
    "            else:\n",
    "                break\n",
    "    return ans[W]"
   ]
  },
  {
   "cell_type": "code",
   "execution_count": 183,
   "metadata": {},
   "outputs": [],
   "source": [
    "N = 5\n",
    "W = 10\n",
    "G = [400, 500, 200, 300 ,350]\n",
    "P = [5, 5, 3, 4 ,3]"
   ]
  },
  {
   "cell_type": "code",
   "execution_count": 184,
   "metadata": {},
   "outputs": [
    {
     "name": "stdout",
     "output_type": "stream",
     "text": [
      "naive recursion: 900\n",
      "memo: 900\n",
      "bottom up: 900\n",
      "1 10 [0, 0, 0, 0, 0, 0, 0, 0, 0, 0, 400]\n",
      "1 9 [0, 0, 0, 0, 0, 0, 0, 0, 0, 400, 400]\n",
      "1 8 [0, 0, 0, 0, 0, 0, 0, 0, 400, 400, 400]\n",
      "1 7 [0, 0, 0, 0, 0, 0, 0, 400, 400, 400, 400]\n",
      "1 6 [0, 0, 0, 0, 0, 0, 400, 400, 400, 400, 400]\n",
      "1 5 [0, 0, 0, 0, 0, 400, 400, 400, 400, 400, 400]\n",
      "2 10 [0, 0, 0, 0, 0, 400, 400, 400, 400, 400, 900]\n",
      "2 9 [0, 0, 0, 0, 0, 400, 400, 400, 400, 500, 900]\n",
      "2 8 [0, 0, 0, 0, 0, 400, 400, 400, 500, 500, 900]\n",
      "2 7 [0, 0, 0, 0, 0, 400, 400, 500, 500, 500, 900]\n",
      "2 6 [0, 0, 0, 0, 0, 400, 500, 500, 500, 500, 900]\n",
      "2 5 [0, 0, 0, 0, 0, 500, 500, 500, 500, 500, 900]\n",
      "3 10 [0, 0, 0, 0, 0, 500, 500, 500, 500, 500, 900]\n",
      "3 9 [0, 0, 0, 0, 0, 500, 500, 500, 500, 700, 900]\n",
      "3 8 [0, 0, 0, 0, 0, 500, 500, 500, 700, 700, 900]\n",
      "3 7 [0, 0, 0, 0, 0, 500, 500, 500, 700, 700, 900]\n",
      "3 6 [0, 0, 0, 0, 0, 500, 500, 500, 700, 700, 900]\n",
      "3 5 [0, 0, 0, 0, 0, 500, 500, 500, 700, 700, 900]\n",
      "3 4 [0, 0, 0, 0, 200, 500, 500, 500, 700, 700, 900]\n",
      "3 3 [0, 0, 0, 200, 200, 500, 500, 500, 700, 700, 900]\n",
      "4 10 [0, 0, 0, 200, 200, 500, 500, 500, 700, 700, 900]\n",
      "4 9 [0, 0, 0, 200, 200, 500, 500, 500, 700, 800, 900]\n",
      "4 8 [0, 0, 0, 200, 200, 500, 500, 500, 700, 800, 900]\n",
      "4 7 [0, 0, 0, 200, 200, 500, 500, 500, 700, 800, 900]\n",
      "4 6 [0, 0, 0, 200, 200, 500, 500, 500, 700, 800, 900]\n",
      "4 5 [0, 0, 0, 200, 200, 500, 500, 500, 700, 800, 900]\n",
      "4 4 [0, 0, 0, 200, 300, 500, 500, 500, 700, 800, 900]\n",
      "5 10 [0, 0, 0, 200, 300, 500, 500, 500, 700, 800, 900]\n",
      "5 9 [0, 0, 0, 200, 300, 500, 500, 500, 700, 850, 900]\n",
      "5 8 [0, 0, 0, 200, 300, 500, 500, 500, 850, 850, 900]\n",
      "5 7 [0, 0, 0, 200, 300, 500, 500, 650, 850, 850, 900]\n",
      "5 6 [0, 0, 0, 200, 300, 500, 550, 650, 850, 850, 900]\n",
      "5 5 [0, 0, 0, 200, 300, 500, 550, 650, 850, 850, 900]\n",
      "5 4 [0, 0, 0, 200, 350, 500, 550, 650, 850, 850, 900]\n",
      "5 3 [0, 0, 0, 350, 350, 500, 550, 650, 850, 850, 900]\n",
      "less storage: 900\n"
     ]
    }
   ],
   "source": [
    "print(\"naive recursion:\",goldMiningV1(N, W, G, P))\n",
    "print(\"memo:\",goldMiningV2(N, W, G, P, {}))\n",
    "print(\"bottom up:\",goldMiningV3(N, W, G, P))\n",
    "print(\"less storage:\",goldMiningV4(N, W, G, P))"
   ]
  },
  {
   "cell_type": "code",
   "execution_count": null,
   "metadata": {},
   "outputs": [],
   "source": []
  }
 ],
 "metadata": {
  "kernelspec": {
   "display_name": "Python 3",
   "language": "python",
   "name": "python3"
  },
  "language_info": {
   "codemirror_mode": {
    "name": "ipython",
    "version": 3
   },
   "file_extension": ".py",
   "mimetype": "text/x-python",
   "name": "python",
   "nbconvert_exporter": "python",
   "pygments_lexer": "ipython3",
   "version": "3.6.4"
  }
 },
 "nbformat": 4,
 "nbformat_minor": 2
}
