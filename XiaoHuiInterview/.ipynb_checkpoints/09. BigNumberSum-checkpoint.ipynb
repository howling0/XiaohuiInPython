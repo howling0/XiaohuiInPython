{
 "cells": [
  {
   "cell_type": "code",
   "execution_count": 24,
   "metadata": {},
   "outputs": [],
   "source": [
    "def bigNumberSum_V1(a, b):\n",
    "    an = list(reversed(a))\n",
    "    bn = list(reversed(b))\n",
    "    an.append(\"0\")\n",
    "    bn.append(\"0\")\n",
    "    # target length\n",
    "    target = len(an)\n",
    "    shorter = bn\n",
    "    if len(bn) > len(an):\n",
    "        target = len(bn)\n",
    "        shorter = an\n",
    "        \n",
    "    appendBits(shorter, target)\n",
    "    ans = [\"0\"] * target\n",
    "    reminder = 0\n",
    "    for i in range(target):\n",
    "        temp = int(an[i]) + int(bn[i])\n",
    "        if reminder:\n",
    "            temp += 1\n",
    "            reminder = 0\n",
    "        if temp >= 10:\n",
    "            temp -= 10\n",
    "            reminder = 1\n",
    "        ans[i] = str(temp)\n",
    "    ans = list(reversed(ans))\n",
    "    while len(ans) > 0 and ans[0] == \"0\":\n",
    "        ans.pop(0)\n",
    "    return \"\".join(ans)\n",
    "    \n",
    "def appendBits(nums, target):\n",
    "    while len(nums) < target:\n",
    "        nums.append(\"0\")"
   ]
  },
  {
   "cell_type": "code",
   "execution_count": 25,
   "metadata": {},
   "outputs": [
    {
     "name": "stdout",
     "output_type": "stream",
     "text": [
      "16906\n",
      "16906\n"
     ]
    }
   ],
   "source": [
    "a = \"13450\"\n",
    "b = \"3456\"\n",
    "print(bigNumberSum_V1(a,b))"
   ]
  },
  {
   "cell_type": "code",
   "execution_count": null,
   "metadata": {},
   "outputs": [],
   "source": []
  }
 ],
 "metadata": {
  "kernelspec": {
   "display_name": "Python 3",
   "language": "python",
   "name": "python3"
  },
  "language_info": {
   "codemirror_mode": {
    "name": "ipython",
    "version": 3
   },
   "file_extension": ".py",
   "mimetype": "text/x-python",
   "name": "python",
   "nbconvert_exporter": "python",
   "pygments_lexer": "ipython3",
   "version": "3.6.4"
  }
 },
 "nbformat": 4,
 "nbformat_minor": 2
}
