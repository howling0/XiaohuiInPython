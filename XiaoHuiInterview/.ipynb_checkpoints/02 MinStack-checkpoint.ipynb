{
 "cells": [
  {
   "cell_type": "code",
   "execution_count": 40,
   "metadata": {},
   "outputs": [],
   "source": [
    "class MinStack:\n",
    "    stack = []\n",
    "    mins = []\n",
    "    \n",
    "    def __init__(self):\n",
    "        self.stack = []\n",
    "        self.mins = []\n",
    "        \n",
    "    def push(self, target):\n",
    "        if self.mins:\n",
    "            if target <= self.mins[-1]: # 等于也要添加\n",
    "                self.mins.append(target)\n",
    "        else:\n",
    "            self.mins.append(target)\n",
    "        self.stack.append(target)\n",
    "    \n",
    "    def pop(self):\n",
    "        if self.stack:\n",
    "            target = self.stack.pop()\n",
    "            if self.mins and target == self.mins[-1]:\n",
    "                self.mins.pop()\n",
    "            return target\n",
    "        else:\n",
    "            return None\n",
    "    \n",
    "    def top(self):\n",
    "        if self.stack:\n",
    "            return self.stack[-1]\n",
    "        else:\n",
    "            return None"
   ]
  },
  {
   "cell_type": "code",
   "execution_count": 57,
   "metadata": {},
   "outputs": [],
   "source": [
    "stack = MinStack()"
   ]
  },
  {
   "cell_type": "code",
   "execution_count": 58,
   "metadata": {},
   "outputs": [],
   "source": [
    "stack.push(1)\n",
    "stack.push(1)\n",
    "stack.push(2)\n",
    "stack.push(1)\n",
    "stack.push(1)"
   ]
  },
  {
   "cell_type": "code",
   "execution_count": 59,
   "metadata": {},
   "outputs": [
    {
     "name": "stdout",
     "output_type": "stream",
     "text": [
      "stack: [1, 1, 2, 1, 1]\n",
      "mins: [1, 1, 1, 1]\n"
     ]
    }
   ],
   "source": [
    "print(\"stack:\",stack.stack)\n",
    "print(\"mins:\",stack.mins)"
   ]
  },
  {
   "cell_type": "code",
   "execution_count": 60,
   "metadata": {},
   "outputs": [
    {
     "data": {
      "text/plain": [
       "2"
      ]
     },
     "execution_count": 60,
     "metadata": {},
     "output_type": "execute_result"
    }
   ],
   "source": [
    "stack.pop()\n",
    "stack.pop()\n",
    "stack.pop()"
   ]
  },
  {
   "cell_type": "code",
   "execution_count": 61,
   "metadata": {},
   "outputs": [
    {
     "name": "stdout",
     "output_type": "stream",
     "text": [
      "stack: [1, 1]\n",
      "mins: [1, 1]\n"
     ]
    }
   ],
   "source": [
    "print(\"stack:\",stack.stack)\n",
    "print(\"mins:\",stack.mins)"
   ]
  },
  {
   "cell_type": "code",
   "execution_count": null,
   "metadata": {},
   "outputs": [],
   "source": []
  }
 ],
 "metadata": {
  "kernelspec": {
   "display_name": "Python 3",
   "language": "python",
   "name": "python3"
  },
  "language_info": {
   "codemirror_mode": {
    "name": "ipython",
    "version": 3
   },
   "file_extension": ".py",
   "mimetype": "text/x-python",
   "name": "python",
   "nbconvert_exporter": "python",
   "pygments_lexer": "ipython3",
   "version": "3.6.4"
  }
 },
 "nbformat": 4,
 "nbformat_minor": 2
}
