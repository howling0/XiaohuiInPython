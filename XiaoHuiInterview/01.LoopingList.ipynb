{
 "cells": [
  {
   "cell_type": "code",
   "execution_count": 1,
   "metadata": {},
   "outputs": [],
   "source": [
    "class Node():\n",
    "    val = 0\n",
    "    next = None\n",
    "    def __init__(self, v):\n",
    "        self.val = v"
   ]
  },
  {
   "cell_type": "code",
   "execution_count": 2,
   "metadata": {},
   "outputs": [],
   "source": [
    "def isLoopingList(li):\n",
    "    p1 = p2 = li\n",
    "    while p2.next:\n",
    "        p1 = p1.next\n",
    "        p2 = p2.next.next\n",
    "        if p1 == p2:\n",
    "            return True\n",
    "    return False"
   ]
  },
  {
   "cell_type": "code",
   "execution_count": 9,
   "metadata": {},
   "outputs": [],
   "source": [
    "# init nodes\n",
    "n1 = Node(3)\n",
    "n2 = Node(5)\n",
    "n3 = Node(6)\n",
    "n4 = Node(8)\n",
    "n5 = Node(1)\n",
    "n6 = Node(4)\n",
    "n7 = Node(9)\n",
    "n8 = Node(7)\n",
    "n9 = Node(2)\n",
    "\n",
    "# link nodes together\n",
    "n1.next = n2\n",
    "n2.next = n3\n",
    "n3.next = n4\n",
    "n4.next = n5\n",
    "n5.next = n6\n",
    "n6.next = n7\n",
    "n7.next = n8\n",
    "n8.next = n9\n",
    "\n",
    "# looping point\n",
    "# n9.next = n4"
   ]
  },
  {
   "cell_type": "code",
   "execution_count": 10,
   "metadata": {},
   "outputs": [
    {
     "data": {
      "text/plain": [
       "False"
      ]
     },
     "execution_count": 10,
     "metadata": {},
     "output_type": "execute_result"
    }
   ],
   "source": [
    "isLoopingList(n1)"
   ]
  },
  {
   "cell_type": "code",
   "execution_count": null,
   "metadata": {},
   "outputs": [],
   "source": []
  }
 ],
 "metadata": {
  "kernelspec": {
   "display_name": "Python 3",
   "language": "python",
   "name": "python3"
  },
  "language_info": {
   "codemirror_mode": {
    "name": "ipython",
    "version": 3
   },
   "file_extension": ".py",
   "mimetype": "text/x-python",
   "name": "python",
   "nbconvert_exporter": "python",
   "pygments_lexer": "ipython3",
   "version": "3.6.4"
  }
 },
 "nbformat": 4,
 "nbformat_minor": 2
}
