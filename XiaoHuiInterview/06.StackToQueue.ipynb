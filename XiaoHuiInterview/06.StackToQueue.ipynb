{
 "cells": [
  {
   "cell_type": "code",
   "execution_count": 5,
   "metadata": {},
   "outputs": [],
   "source": [
    "class Stack():\n",
    "    stack = []\n",
    "    mins = []\n",
    "    \n",
    "    def __init__(self):\n",
    "        self.stack = []\n",
    "        self.mins = []\n",
    "        \n",
    "    def push(self, target):\n",
    "        if self.mins:\n",
    "            if target <= self.mins[-1]: # 等于也要添加\n",
    "                self.mins.append(target)\n",
    "        else:\n",
    "            self.mins.append(target)\n",
    "        self.stack.append(target)\n",
    "    \n",
    "    def pop(self):\n",
    "        if self.stack:\n",
    "            target = self.stack.pop()\n",
    "            if self.mins and target == self.mins[-1]:\n",
    "                self.mins.pop()\n",
    "            return target\n",
    "        else:\n",
    "            return None\n",
    "    \n",
    "    def top(self):\n",
    "        if self.stack:\n",
    "            return self.stack[-1]\n",
    "        else:\n",
    "            return None"
   ]
  },
  {
   "cell_type": "code",
   "execution_count": 6,
   "metadata": {},
   "outputs": [],
   "source": [
    "class StackToQueue:\n",
    "    \n",
    "    def __init__(self):\n",
    "        self.stack1 = Stack()\n",
    "        self.stack2 = Stack()\n",
    "    \n",
    "    def enqueue(self, num):\n",
    "        self.stack1.push(num)\n",
    "    \n",
    "    def dequeue(self):\n",
    "        if not self.stack2.stack:\n",
    "            self.transfer(self.stack1, self.stack2)\n",
    "        return self.stack2.pop()\n",
    "    \n",
    "    def transfer(self, src, tar):\n",
    "        while src.stack:\n",
    "            tar.push(src.pop())"
   ]
  },
  {
   "cell_type": "code",
   "execution_count": 8,
   "metadata": {},
   "outputs": [
    {
     "name": "stdout",
     "output_type": "stream",
     "text": [
      "[5, 4, 3, 2, 1]\n",
      "[]\n"
     ]
    }
   ],
   "source": [
    "sq = StackToQueue()\n",
    "sq.enqueue(5)\n",
    "sq.enqueue(4)\n",
    "sq.enqueue(3)\n",
    "sq.enqueue(2)\n",
    "sq.enqueue(1)\n",
    "print(sq.stack1.stack)\n",
    "print(sq.stack2.stack)"
   ]
  },
  {
   "cell_type": "code",
   "execution_count": 9,
   "metadata": {},
   "outputs": [
    {
     "name": "stdout",
     "output_type": "stream",
     "text": [
      "[]\n",
      "[1, 2, 3]\n"
     ]
    }
   ],
   "source": [
    "sq.dequeue()\n",
    "sq.dequeue()\n",
    "print(sq.stack1.stack)\n",
    "print(sq.stack2.stack)"
   ]
  },
  {
   "cell_type": "code",
   "execution_count": 10,
   "metadata": {},
   "outputs": [
    {
     "name": "stdout",
     "output_type": "stream",
     "text": [
      "[6, 7]\n",
      "[1, 2, 3]\n"
     ]
    }
   ],
   "source": [
    "sq.enqueue(6)\n",
    "sq.enqueue(7)\n",
    "print(sq.stack1.stack)\n",
    "print(sq.stack2.stack)"
   ]
  },
  {
   "cell_type": "code",
   "execution_count": 11,
   "metadata": {},
   "outputs": [
    {
     "name": "stdout",
     "output_type": "stream",
     "text": [
      "[6, 7]\n",
      "[1, 2]\n"
     ]
    }
   ],
   "source": [
    "sq.dequeue()\n",
    "print(sq.stack1.stack)\n",
    "print(sq.stack2.stack)"
   ]
  },
  {
   "cell_type": "code",
   "execution_count": 12,
   "metadata": {},
   "outputs": [
    {
     "data": {
      "text/plain": [
       "6"
      ]
     },
     "execution_count": 12,
     "metadata": {},
     "output_type": "execute_result"
    }
   ],
   "source": [
    "sq.dequeue()\n",
    "sq.dequeue()\n",
    "sq.dequeue()"
   ]
  },
  {
   "cell_type": "code",
   "execution_count": 13,
   "metadata": {},
   "outputs": [
    {
     "name": "stdout",
     "output_type": "stream",
     "text": [
      "[]\n",
      "[7]\n"
     ]
    }
   ],
   "source": [
    "print(sq.stack1.stack)\n",
    "print(sq.stack2.stack)"
   ]
  },
  {
   "cell_type": "code",
   "execution_count": 14,
   "metadata": {},
   "outputs": [
    {
     "name": "stdout",
     "output_type": "stream",
     "text": [
      "[8, 9, 10]\n",
      "[7]\n"
     ]
    }
   ],
   "source": [
    "sq.enqueue(8)\n",
    "sq.enqueue(9)\n",
    "sq.enqueue(10)\n",
    "print(sq.stack1.stack)\n",
    "print(sq.stack2.stack)"
   ]
  }
 ],
 "metadata": {
  "kernelspec": {
   "display_name": "Python 3",
   "language": "python",
   "name": "python3"
  },
  "language_info": {
   "codemirror_mode": {
    "name": "ipython",
    "version": 3
   },
   "file_extension": ".py",
   "mimetype": "text/x-python",
   "name": "python",
   "nbconvert_exporter": "python",
   "pygments_lexer": "ipython3",
   "version": "3.6.4"
  }
 },
 "nbformat": 4,
 "nbformat_minor": 2
}
