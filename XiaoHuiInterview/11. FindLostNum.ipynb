{
 "cells": [
  {
   "cell_type": "markdown",
   "metadata": {},
   "source": [
    "## Finding a number lost in 0 to n"
   ]
  },
  {
   "cell_type": "code",
   "execution_count": 42,
   "metadata": {},
   "outputs": [],
   "source": [
    "# Sort\n",
    "def findLostNumV1(arr):\n",
    "    n = sorted(arr)\n",
    "    for i, v in enumerate(n):\n",
    "        if i != v:\n",
    "            return i\n",
    "    else:\n",
    "        return None"
   ]
  },
  {
   "cell_type": "code",
   "execution_count": 43,
   "metadata": {},
   "outputs": [],
   "source": [
    "# XOR\n",
    "def findLostNumV2(arr):\n",
    "        res = len(arr)\n",
    "        for i, num in enumerate(arr):\n",
    "            res ^= num\n",
    "            res ^= i\n",
    "        return res"
   ]
  },
  {
   "cell_type": "code",
   "execution_count": 44,
   "metadata": {},
   "outputs": [],
   "source": [
    "# Numerical\n",
    "def findLostNumV3(arr):\n",
    "    n = len(arr) + 1\n",
    "    total = n * (n - 1) // 2\n",
    "    return total - sum(arr)"
   ]
  },
  {
   "cell_type": "code",
   "execution_count": 46,
   "metadata": {},
   "outputs": [
    {
     "name": "stdout",
     "output_type": "stream",
     "text": [
      "Hash: 4\n",
      "XOR: 4\n",
      "Numerical: 4\n"
     ]
    }
   ],
   "source": [
    "arr = [0,1,2,3,5]\n",
    "print(\"Sort:\", findLostNumV1(arr))\n",
    "print(\"XOR:\", findLostNumV2(arr))\n",
    "print(\"Numerical:\", findLostNumV3(arr))"
   ]
  },
  {
   "cell_type": "markdown",
   "metadata": {},
   "source": [
    "## Finding a number occurring only once"
   ]
  },
  {
   "cell_type": "code",
   "execution_count": 40,
   "metadata": {},
   "outputs": [],
   "source": [
    "# Hash\n",
    "def findLostNumV4(arr):\n",
    "    n = len(arr) + 1\n",
    "    s = set()\n",
    "    \n",
    "    for i in arr:\n",
    "        if i in s:\n",
    "            s.discard(i)\n",
    "        else:\n",
    "            s.add(i)\n",
    "    return list(s)[0] if len(s) > 0 else None"
   ]
  },
  {
   "cell_type": "code",
   "execution_count": 47,
   "metadata": {},
   "outputs": [],
   "source": [
    "# XOR\n",
    "def findLostNumV5(arr):\n",
    "    res = 0\n",
    "    for i in arr:\n",
    "        res ^= i\n",
    "    return res"
   ]
  },
  {
   "cell_type": "code",
   "execution_count": 48,
   "metadata": {},
   "outputs": [
    {
     "name": "stdout",
     "output_type": "stream",
     "text": [
      "Hash: 2\n",
      "XOR: 2\n"
     ]
    }
   ],
   "source": [
    "arr = [0,1,2,3,0,1,3]\n",
    "print(\"Hash:\", findLostNumV4(arr))\n",
    "print(\"XOR:\", findLostNumV5(arr))"
   ]
  },
  {
   "cell_type": "markdown",
   "metadata": {},
   "source": [
    "## Finding two numbers occurring only once"
   ]
  },
  {
   "cell_type": "code",
   "execution_count": null,
   "metadata": {},
   "outputs": [],
   "source": [
    "# XOR + Divide&Conquer\n",
    "def findLostNumV6(arr):\n",
    "    "
   ]
  }
 ],
 "metadata": {
  "kernelspec": {
   "display_name": "Python 3",
   "language": "python",
   "name": "python3"
  },
  "language_info": {
   "codemirror_mode": {
    "name": "ipython",
    "version": 3
   },
   "file_extension": ".py",
   "mimetype": "text/x-python",
   "name": "python",
   "nbconvert_exporter": "python",
   "pygments_lexer": "ipython3",
   "version": "3.6.4"
  }
 },
 "nbformat": 4,
 "nbformat_minor": 2
}
