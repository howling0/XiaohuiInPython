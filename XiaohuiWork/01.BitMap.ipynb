{
 "cells": [
  {
   "cell_type": "code",
   "execution_count": 70,
   "metadata": {},
   "outputs": [],
   "source": [
    "class Bitmap:\n",
    "    def __init__(self, maxi):\n",
    "        self.size = (maxi + 31 - 1) // 31\n",
    "        self.array = [0 for i in range(self.size)]\n",
    "    \n",
    "    def calcElementIndex(self, num):\n",
    "        return num >> 5\n",
    "    \n",
    "    def calcBitIndex(self, num):\n",
    "        return num % 31\n",
    "    \n",
    "    def insert(self, num):\n",
    "        elementIndex = self.calcElementIndex(num)\n",
    "        bitIndex = self.calcBitIndex(num)\n",
    "        element = self.array[elementIndex]\n",
    "        self.array[elementIndex] = element | (1 << bitIndex)\n",
    "    \n",
    "    def remove(self, num):\n",
    "        elementIndex = self.calcElementIndex(num)\n",
    "        bitIndex = self.calcBitIndex(num)\n",
    "        element = self.array[elementIndex]\n",
    "        self.array[elementIndex] = element & (~(1 << bitIndex))\n",
    "        \n",
    "    def isOne(self, num):\n",
    "        elementIndex = self.calcElementIndex(num)\n",
    "        bitIndex = self.calcBitIndex(num)\n",
    "        element = self.array[elementIndex]\n",
    "        if element & (1 << bitIndex):\n",
    "            return True\n",
    "        return False"
   ]
  },
  {
   "cell_type": "code",
   "execution_count": 71,
   "metadata": {
    "scrolled": true
   },
   "outputs": [
    {
     "name": "stdout",
     "output_type": "stream",
     "text": [
      "[1, 8, 0]\n",
      "[0, 8, 0]\n",
      "[0, 0, 0]\n"
     ]
    }
   ],
   "source": [
    "bitmap = Bitmap(87)\n",
    "\n",
    "bitmap.insert(0)\n",
    "\n",
    "bitmap.insert(34)\n",
    "\n",
    "print (bitmap.array)\n",
    "\n",
    "bitmap.remove(0)\n",
    "\n",
    "print (bitmap.array)\n",
    "\n",
    "bitmap.remove(34)\n",
    "\n",
    "print (bitmap.array)"
   ]
  },
  {
   "cell_type": "code",
   "execution_count": 72,
   "metadata": {},
   "outputs": [
    {
     "name": "stdout",
     "output_type": "stream",
     "text": [
      "排序前:['q', 'w', 'e', 'r', 't', 'y', 'h', 'j', 'k', 'l', 'z', 'x', 'c', 'v', 'b', 'a', 's', 'd', 'f', 'g', 'n', 'm', 'u', 'i', 'o', 'p']\n",
      "排序后:['a', 'b', 'c', 'd', 'e', 'f', 'g', 'h', 'i', 'j', 'k', 'l', 'm', 'n', 'o', 'p', 'q', 'r', 's', 't', 'u', 'v', 'w', 'x', 'y', 'z']\n"
     ]
    }
   ],
   "source": [
    "maxi = ord('z')\n",
    "array = [x for x in 'qwertyhjklzxcvbasdfgnmuiop']\n",
    "ans = []\n",
    "bitmap = Bitmap(maxi)\n",
    "for c in array:\n",
    "    bitmap.insert(ord(c))\n",
    "for i in range(Max + 1):\n",
    "    if bitmap.isOne(i):\n",
    "        ans.append(chr(i))\n",
    "print(u'排序前:%s' % array)\n",
    "print(u'排序后:%s' % ans)"
   ]
  }
 ],
 "metadata": {
  "kernelspec": {
   "display_name": "Python 3",
   "language": "python",
   "name": "python3"
  },
  "language_info": {
   "codemirror_mode": {
    "name": "ipython",
    "version": 3
   },
   "file_extension": ".py",
   "mimetype": "text/x-python",
   "name": "python",
   "nbconvert_exporter": "python",
   "pygments_lexer": "ipython3",
   "version": "3.6.4"
  }
 },
 "nbformat": 4,
 "nbformat_minor": 2
}
